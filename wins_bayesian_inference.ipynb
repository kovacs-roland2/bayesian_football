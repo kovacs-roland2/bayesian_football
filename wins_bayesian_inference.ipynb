{
 "cells": [
  {
   "cell_type": "code",
   "execution_count": null,
   "metadata": {},
   "outputs": [],
   "source": [
    "import numpy as np\n",
    "import pymc as pm\n",
    "import matplotlib.pyplot as plt\n",
    "import arviz as az"
   ]
  },
  {
   "cell_type": "code",
   "execution_count": 39,
   "metadata": {},
   "outputs": [],
   "source": [
    "# ---- STEP 1: Prepare data ----\n",
    "match_points = [0, 0, 1, 0, 1, 3, 3, 3, 3, 3, 3, 3, 3, 3, 3, 3, 1, 3, 0, 3, 1, 3]\n",
    "n = len(match_points)\n",
    "\n",
    "# Map match outcomes to class indices (needed for Categorical)\n",
    "points_map = {0: 0, 1: 1, 3: 2}\n",
    "match_classes = np.array([points_map[pt] for pt in match_points])\n",
    "n_categories = 3"
   ]
  },
  {
   "cell_type": "code",
   "execution_count": 40,
   "metadata": {},
   "outputs": [
    {
     "name": "stderr",
     "output_type": "stream",
     "text": [
      "Multiprocess sampling (4 chains in 4 jobs)\n",
      "CompoundStep\n",
      ">Metropolis: [tau]\n",
      ">NUTS: [p1, p2]\n",
      "WARNING (pytensor.tensor.blas): Using NumPy C-API based implementation for BLAS functions.\n",
      "WARNING (pytensor.tensor.blas): Using NumPy C-API based implementation for BLAS functions.\n",
      "WARNING (pytensor.tensor.blas): Using NumPy C-API based implementation for BLAS functions.\n",
      "WARNING (pytensor.tensor.blas): Using NumPy C-API based implementation for BLAS functions.\n"
     ]
    },
    {
     "data": {
      "text/html": [
       "\n",
       "<style>\n",
       "    /* Turns off some styling */\n",
       "    progress {\n",
       "        /* gets rid of default border in Firefox and Opera. */\n",
       "        border: none;\n",
       "        /* Needs to be in here for Safari polyfill so background images work as expected. */\n",
       "        background-size: auto;\n",
       "    }\n",
       "    progress:not([value]), progress:not([value])::-webkit-progress-bar {\n",
       "        background: repeating-linear-gradient(45deg, #7e7e7e, #7e7e7e 10px, #5c5c5c 10px, #5c5c5c 20px);\n",
       "    }\n",
       "    .progress-bar-interrupted, .progress-bar-interrupted::-webkit-progress-bar {\n",
       "        background: #F44336;\n",
       "    }\n",
       "</style>\n"
      ],
      "text/plain": [
       "<IPython.core.display.HTML object>"
      ]
     },
     "metadata": {},
     "output_type": "display_data"
    },
    {
     "data": {
      "text/html": [
       "\n",
       "    <div>\n",
       "      <progress value='16000' class='' max='16000' style='width:300px; height:20px; vertical-align: middle;'></progress>\n",
       "      100.00% [16000/16000 00:21&lt;00:00 Sampling 4 chains, 0 divergences]\n",
       "    </div>\n",
       "    "
      ],
      "text/plain": [
       "<IPython.core.display.HTML object>"
      ]
     },
     "metadata": {},
     "output_type": "display_data"
    },
    {
     "name": "stderr",
     "output_type": "stream",
     "text": [
      "Sampling 4 chains for 1_000 tune and 3_000 draw iterations (4_000 + 12_000 draws total) took 37 seconds.\n",
      "The rhat statistic is larger than 1.01 for some parameters. This indicates problems during sampling. See https://arxiv.org/abs/1903.08008 for details\n",
      "The effective sample size per chain is smaller than 100 for some parameters.  A higher number is needed for reliable rhat and ess computation. See https://arxiv.org/abs/1903.08008 for details\n"
     ]
    }
   ],
   "source": [
    "# ---- STEP 2: Define Bayesian model ----\n",
    "with pm.Model() as model:\n",
    "    tau = pm.DiscreteUniform(\"tau\", lower=0, upper=n)\n",
    "    p1 = pm.Dirichlet(\"p1\", a=np.ones(n_categories))\n",
    "    p2 = pm.Dirichlet(\"p2\", a=np.ones(n_categories))\n",
    "\n",
    "    p_all = pm.math.stack([p1, p2])\n",
    "    selector = (np.arange(n) >= tau).astype(\"int32\")\n",
    "    p = p_all[selector]\n",
    "\n",
    "    obs = pm.Categorical(\"obs\", p=p, observed=match_classes)\n",
    "    trace = pm.sample(3000, tune=1000, target_accept=0.95, random_seed=42)"
   ]
  },
  {
   "cell_type": "code",
   "execution_count": 42,
   "metadata": {},
   "outputs": [],
   "source": [
    "# ---- STEP 3: Extract and reshape samples ----\n",
    "p1_samples = trace.posterior[\"p1\"].values.reshape(-1, 3)  # (n_samples, 3)\n",
    "p2_samples = trace.posterior[\"p2\"].values.reshape(-1, 3)\n",
    "tau_samples = trace.posterior[\"tau\"].values.flatten()   "
   ]
  },
  {
   "cell_type": "code",
   "execution_count": 43,
   "metadata": {},
   "outputs": [
    {
     "data": {
      "image/png": "[encoded data removed]",
      "text/plain": [
       "<Figure size 640x480 with 1 Axes>"
      ]
     },
     "metadata": {},
     "output_type": "display_data"
    }
   ],
   "source": [
    "# ---- STEP 6: Visualize the change point ----\n",
    "az.plot_posterior(trace, var_names=[\"tau\"])\n",
    "plt.title(\"Posterior of change point (τ)\")\n",
    "plt.xlabel(\"Matchweek\")\n",
    "plt.grid(True)\n",
    "plt.show()"
   ]
  },
  {
   "cell_type": "code",
   "execution_count": 48,
   "metadata": {},
   "outputs": [],
   "source": [
    "# ---- STEP 4: Compute mean outcome probabilities ----\n",
    "# Get the samples where tau is before/after the halfway point\n",
    "cut_point = 6\n",
    "before_mask = tau_samples <= cut_point\n",
    "after_mask = tau_samples > cut_point\n",
    "\n",
    "# Mean outcome probabilities\n",
    "p1_mean = p1_samples[before_mask].mean(axis=0)\n",
    "p2_mean = p2_samples[after_mask].mean(axis=0)\n"
   ]
  },
  {
   "cell_type": "code",
   "execution_count": 49,
   "metadata": {},
   "outputs": [
    {
     "name": "stdout",
     "output_type": "stream",
     "text": [
      "📊 Estimated outcome probabilities BEFORE the change point:\n",
      "  0 points: 0.519\n",
      "  1 point: 0.335\n",
      "  3 points: 0.146\n",
      "\n",
      "📊 Estimated outcome probabilities AFTER the change point:\n",
      "  0 points: 0.187\n",
      "  1 point: 0.258\n",
      "  3 points: 0.554\n"
     ]
    }
   ],
   "source": [
    "# ---- STEP 5: Print results ----\n",
    "index_to_points = {0: \"0 points\", 1: \"1 point\", 2: \"3 points\"}\n",
    "\n",
    "print(\"📊 Estimated outcome probabilities BEFORE the change point:\")\n",
    "for i, p in enumerate(p1_mean):\n",
    "    print(f\"  {index_to_points[i]}: {p:.3f}\")\n",
    "\n",
    "print(\"\\n📊 Estimated outcome probabilities AFTER the change point:\")\n",
    "for i, p in enumerate(p2_mean):\n",
    "    print(f\"  {index_to_points[i]}: {p:.3f}\")\n",
    "\n"
   ]
  },
  {
   "cell_type": "code",
   "execution_count": null,
   "metadata": {},
   "outputs": [],
   "source": []
  },
  {
   "cell_type": "code",
   "execution_count": null,
   "metadata": {},
   "outputs": [],
   "source": []
  },
  {
   "cell_type": "code",
   "execution_count": null,
   "metadata": {},
   "outputs": [],
   "source": []
  },
  {
   "cell_type": "code",
   "execution_count": 11,
   "metadata": {},
   "outputs": [
    {
     "name": "stdout",
     "output_type": "stream",
     "text": [
      "p1_samples shape: (3, 12000)\n"
     ]
    }
   ],
   "source": [
    "print(\"p1_samples shape:\", p1_samples.shape)\n"
   ]
  }
 ],
 "metadata": {
  "kernelspec": {
   "display_name": "venv",
   "language": "python",
   "name": "python3"
  },
  "language_info": {
   "codemirror_mode": {
    "name": "ipython",
    "version": 3
   },
   "file_extension": ".py",
   "mimetype": "text/x-python",
   "name": "python",
   "nbconvert_exporter": "python",
   "pygments_lexer": "ipython3",
   "version": "3.9.6"
  }
 },
 "nbformat": 4,
 "nbformat_minor": 2
}
